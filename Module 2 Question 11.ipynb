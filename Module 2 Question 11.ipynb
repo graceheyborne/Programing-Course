{
 "cells": [
  {
   "cell_type": "code",
   "execution_count": 61,
   "id": "a9ea2f85",
   "metadata": {
    "scrolled": false
   },
   "outputs": [
    {
     "data": {
      "text/plain": [
       "2"
      ]
     },
     "execution_count": 61,
     "metadata": {},
     "output_type": "execute_result"
    }
   ],
   "source": [
    "# Question 1: Booleans\n",
    "## boolean True + boolean True - boolean False = ?\n",
    "\n",
    "True + True - False"
   ]
  },
  {
   "cell_type": "code",
   "execution_count": 74,
   "id": "8ae983ea",
   "metadata": {
    "scrolled": true
   },
   "outputs": [
    {
     "name": "stdout",
     "output_type": "stream",
     "text": [
      "True\n",
      "True\n",
      "True\n"
     ]
    }
   ],
   "source": [
    "# Question 2: Booleans 2 \n",
    "## logical tracker = True, logical tracker = logical tracker & logical tracker, logical tracker = logical tracker | (logical tracker - logical tracker), logical tracker = ?\n",
    "\n",
    "x = \"logical tracker\"\n",
    "x = True\n",
    "print(x & x)\n",
    "print (x | x)\n",
    "print(x)"
   ]
  },
  {
   "cell_type": "code",
   "execution_count": 60,
   "id": "1713a174",
   "metadata": {
    "scrolled": true
   },
   "outputs": [
    {
     "name": "stdout",
     "output_type": "stream",
     "text": [
      " \n"
     ]
    }
   ],
   "source": [
    "# Question 5: Strings\n",
    "## string = \"E. Coli\", string[2] = ?\n",
    "\n",
    "string = \"E. Coli\"\n",
    "print(string[2])"
   ]
  },
  {
   "cell_type": "code",
   "execution_count": 11,
   "id": "ea9dd393",
   "metadata": {
    "scrolled": true
   },
   "outputs": [
    {
     "ename": "TypeError",
     "evalue": "'str' object does not support item assignment",
     "output_type": "error",
     "traceback": [
      "\u001b[0;31m---------------------------------------------------------------------------\u001b[0m",
      "\u001b[0;31mTypeError\u001b[0m                                 Traceback (most recent call last)",
      "Cell \u001b[0;32mIn[11], line 2\u001b[0m\n\u001b[1;32m      1\u001b[0m string \u001b[38;5;241m=\u001b[39m \u001b[38;5;124m\"\u001b[39m\u001b[38;5;124mI Bove python\u001b[39m\u001b[38;5;124m\"\u001b[39m\n\u001b[0;32m----> 2\u001b[0m string[\u001b[38;5;241m2\u001b[39m]\u001b[38;5;241m=\u001b[39m \u001b[38;5;124m\"\u001b[39m\u001b[38;5;124mL\u001b[39m\u001b[38;5;124m\"\u001b[39m\n\u001b[1;32m      3\u001b[0m \u001b[38;5;28mprint\u001b[39m(string[\u001b[38;5;241m2\u001b[39m])\n",
      "\u001b[0;31mTypeError\u001b[0m: 'str' object does not support item assignment"
     ]
    }
   ],
   "source": [
    "# Question 6: Strings 2\n",
    "## does string[2] = \"L\" fix the typo in string = \"I Bove python\" ?\n",
    "\n",
    "string = \"I Bove python\"\n",
    "string[2]= \"L\"\n",
    "print(string[2])\n",
    "\n",
    "## answer: No, it does not work."
   ]
  },
  {
   "cell_type": "code",
   "execution_count": 58,
   "id": "b5da82de",
   "metadata": {},
   "outputs": [
    {
     "name": "stdout",
     "output_type": "stream",
     "text": [
      "4\n",
      "Look up, look down.\n"
     ]
    }
   ],
   "source": [
    "# Question 9: Operators 2\n",
    "## Explain how the \"+\", addition operation works differently for integers and strings.\n",
    "\n",
    "print(1 + 3)\n",
    "print(\"Look up,\" + \" look down.\")"
   ]
  },
  {
   "cell_type": "code",
   "execution_count": 59,
   "id": "62753b6f",
   "metadata": {},
   "outputs": [
    {
     "name": "stdout",
     "output_type": "stream",
     "text": [
      "73\n"
     ]
    }
   ],
   "source": [
    "# Questioon 10: Strings 3\n",
    "## Type the output if the strings \"7\" and \"3\" are added.\n",
    "\n",
    "print(\"7\" + \"3\")"
   ]
  }
 ],
 "metadata": {
  "kernelspec": {
   "display_name": "Python 3 (ipykernel)",
   "language": "python",
   "name": "python3"
  },
  "language_info": {
   "codemirror_mode": {
    "name": "ipython",
    "version": 3
   },
   "file_extension": ".py",
   "mimetype": "text/x-python",
   "name": "python",
   "nbconvert_exporter": "python",
   "pygments_lexer": "ipython3",
   "version": "3.11.3"
  }
 },
 "nbformat": 4,
 "nbformat_minor": 5
}
