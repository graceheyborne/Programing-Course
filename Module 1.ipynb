{
 "cells": [
  {
   "cell_type": "code",
   "execution_count": 1,
   "id": "026d4b40",
   "metadata": {},
   "outputs": [],
   "source": [
    "output = \"I, Grace Heyborne, have successfully installed and run a python program on my computer!\""
   ]
  },
  {
   "cell_type": "code",
   "execution_count": 2,
   "id": "f07771d3",
   "metadata": {},
   "outputs": [
    {
     "name": "stdout",
     "output_type": "stream",
     "text": [
      "I, Grace Heyborne, have successfully installed and run a python program on my computer!\n"
     ]
    }
   ],
   "source": [
    "print(output)"
   ]
  }
 ],
 "metadata": {
  "kernelspec": {
   "display_name": "Python 3 (ipykernel)",
   "language": "python",
   "name": "python3"
  },
  "language_info": {
   "codemirror_mode": {
    "name": "ipython",
    "version": 3
   },
   "file_extension": ".py",
   "mimetype": "text/x-python",
   "name": "python",
   "nbconvert_exporter": "python",
   "pygments_lexer": "ipython3",
   "version": "3.11.3"
  }
 },
 "nbformat": 4,
 "nbformat_minor": 5
}
